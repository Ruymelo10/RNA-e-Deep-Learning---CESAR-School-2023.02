{
  "cells": [
    {
      "cell_type": "markdown",
      "source": [
        "Nome: Ruy Ovídio Perrelli de Melo\n",
        "\n",
        "Email: ropm@cesar.school\n",
        "\n",
        "Neural Networks Homer and Bart Classification (https://www.kaggle.com/datasets/juniorbueno/neural-networks-homer-and-bart-classification)"
      ],
      "metadata": {
        "id": "Qn-fc7R-bnZK"
      }
    },
    {
      "cell_type": "markdown",
      "metadata": {
        "id": "sulShD5y4K7V"
      },
      "source": [
        "# Treinamento com interface de alto nível"
      ]
    },
    {
      "cell_type": "markdown",
      "metadata": {
        "id": "mALEfpx54K7d"
      },
      "source": [
        "## Importação das bibliotecas"
      ]
    },
    {
      "cell_type": "code",
      "execution_count": 1,
      "metadata": {
        "id": "aOn4IXXnGRBg"
      },
      "outputs": [],
      "source": [
        "# http://pytorch.org/\n",
        "from os.path import exists\n",
        "\n",
        "import torch"
      ]
    },
    {
      "cell_type": "code",
      "execution_count": 2,
      "metadata": {
        "id": "WN69WSbu4K7f"
      },
      "outputs": [],
      "source": [
        "import argparse\n",
        "import torch\n",
        "import torch.nn as nn\n",
        "import torch.nn.functional as F\n",
        "import torch.optim as optim\n",
        "from torch.utils.data import DataLoader, Dataset, random_split\n",
        "from torchvision import datasets, transforms\n",
        "from torch.optim.lr_scheduler import StepLR\n",
        "import cv2\n",
        "import os"
      ]
    },
    {
      "cell_type": "code",
      "source": [
        "import numpy as np"
      ],
      "metadata": {
        "id": "KhGPL7Q3J_fI"
      },
      "execution_count": 3,
      "outputs": []
    },
    {
      "cell_type": "code",
      "source": [
        "from google.colab.patches import cv2_imshow"
      ],
      "metadata": {
        "id": "vJ10hfiOHttG"
      },
      "execution_count": 4,
      "outputs": []
    },
    {
      "cell_type": "code",
      "source": [
        "from google.colab import drive\n",
        "drive.mount('/content/drive')"
      ],
      "metadata": {
        "colab": {
          "base_uri": "https://localhost:8080/"
        },
        "id": "5xih70_Wf7jg",
        "outputId": "49b88f72-c54a-4806-ac09-90cce390ceff"
      },
      "execution_count": 5,
      "outputs": [
        {
          "output_type": "stream",
          "name": "stdout",
          "text": [
            "Mounted at /content/drive\n"
          ]
        }
      ]
    },
    {
      "cell_type": "markdown",
      "source": [
        "## Carregamento do dataset e manipulações"
      ],
      "metadata": {
        "id": "sBxbljoEcCdy"
      }
    },
    {
      "cell_type": "code",
      "source": [
        "images_path = '/content/drive/MyDrive/RNA e Deep Learning/Trabalho Final/homer_bart_1'"
      ],
      "metadata": {
        "id": "lj5JztM5f8ER"
      },
      "execution_count": 6,
      "outputs": []
    },
    {
      "cell_type": "code",
      "source": [
        "files = [os.path.join(images_path, f) for f in sorted(os.listdir(images_path))]"
      ],
      "metadata": {
        "id": "qoRy0HPIg1in"
      },
      "execution_count": 7,
      "outputs": []
    },
    {
      "cell_type": "code",
      "source": [
        "# definindo as alturas e larguras para fazer o resize das imagens\n",
        "image_height = 64\n",
        "image_widtg = 64"
      ],
      "metadata": {
        "id": "nFyrE2b1E_Db"
      },
      "execution_count": 8,
      "outputs": []
    },
    {
      "cell_type": "code",
      "source": [
        "images = []\n",
        "labels = []"
      ],
      "metadata": {
        "id": "je-15NLji_g9"
      },
      "execution_count": 9,
      "outputs": []
    },
    {
      "cell_type": "code",
      "source": [
        "for path_image in files:\n",
        "  image = cv2.imread(path_image)\n",
        "  #fazendo o resizing das imagens\n",
        "  image_resized = cv2.resize(image, (image_height, image_widtg))\n",
        "  images.append(image_resized)\n",
        "\n",
        "\n",
        "  #definindo as labens para cada imagem\n",
        "  name_image = os.path.basename(path_image)\n",
        "  if 'homer' in name_image.lower():\n",
        "      labels.append(0)  # Label 0 para imagens de Homer\n",
        "  if 'bart' in name_image.lower():\n",
        "      labels.append(1)  # Label 1 para imagens de Bart\n",
        "  #print(f'image name: {os.path.basename(path_image)}, image label: {labels[len(labels)-1]}', )"
      ],
      "metadata": {
        "id": "jyv8Ml0ghvj3"
      },
      "execution_count": 10,
      "outputs": []
    },
    {
      "cell_type": "code",
      "source": [
        "# testando o carregamento de imagens e a label\n",
        "test_index = 199\n",
        "cv2_imshow(images[test_index])\n",
        "print(labels[test_index])"
      ],
      "metadata": {
        "colab": {
          "base_uri": "https://localhost:8080/",
          "height": 0
        },
        "id": "soGpcwmaGjxP",
        "outputId": "225df06f-ac03-4a92-eedd-242548f7372b"
      },
      "execution_count": 11,
      "outputs": [
        {
          "output_type": "display_data",
          "data": {
            "text/plain": [
              "<PIL.Image.Image image mode=RGB size=64x64>"
            ],
            "image/png": "[encoded data removed]"
          },
          "metadata": {}
        },
        {
          "output_type": "stream",
          "name": "stdout",
          "text": [
            "0\n"
          ]
        }
      ]
    },
    {
      "cell_type": "code",
      "source": [
        "# conversao para numpy array e tamem normalizando os valores rgb da imagem\n",
        "images = np.array(images).astype('float32') / 255.0\n",
        "labels = np.array(labels)"
      ],
      "metadata": {
        "id": "axsZJdusJy3V"
      },
      "execution_count": 12,
      "outputs": []
    },
    {
      "cell_type": "code",
      "source": [
        "class HomerBartDataset(Dataset):\n",
        "    def __init__(self, images, labels, transform=None):\n",
        "        self.images = images\n",
        "        self.labels = labels\n",
        "        self.transform = transform\n",
        "\n",
        "    def __len__(self):\n",
        "        return len(self.images)\n",
        "\n",
        "    def __getitem__(self, idx):\n",
        "        image = self.images[idx]\n",
        "        label = self.labels[idx]\n",
        "        if self.transform:\n",
        "            image = self.transform(image)\n",
        "        return image, label"
      ],
      "metadata": {
        "id": "YVVGL5NPO63c"
      },
      "execution_count": 13,
      "outputs": []
    },
    {
      "cell_type": "code",
      "source": [
        "# Transformação para converter a imagem em tensor\n",
        "transform = transforms.Compose([\n",
        "    transforms.ToTensor(),\n",
        "    transforms.Normalize(mean=[0.5, 0.5, 0.5], std=[0.5, 0.5, 0.5])  # Normalizando as imagens\n",
        "])"
      ],
      "metadata": {
        "id": "yofNDtQkPkcb"
      },
      "execution_count": 14,
      "outputs": []
    },
    {
      "cell_type": "code",
      "source": [
        "# Criação do dataset customizado\n",
        "dataset = HomerBartDataset(images, labels, transform=transform)"
      ],
      "metadata": {
        "id": "m9EShA5lPu9E"
      },
      "execution_count": 15,
      "outputs": []
    },
    {
      "cell_type": "code",
      "source": [
        "# Divisão do dataset em treinamento e validação\n",
        "train_size = int(0.8 * len(dataset))\n",
        "val_size = len(dataset) - train_size\n",
        "train_dataset, val_dataset = random_split(dataset, [train_size, val_size])"
      ],
      "metadata": {
        "id": "W9s6yWlIP1y3"
      },
      "execution_count": 16,
      "outputs": []
    },
    {
      "cell_type": "markdown",
      "metadata": {
        "id": "4T8iS1Jc4K7q"
      },
      "source": [
        "## Criação da rede"
      ]
    },
    {
      "cell_type": "code",
      "execution_count": 22,
      "metadata": {
        "id": "RUi00oew4K7q"
      },
      "outputs": [],
      "source": [
        "class Net(nn.Module):\n",
        "    def __init__(self):\n",
        "        super(Net, self).__init__()\n",
        "        self.flatten = nn.Flatten()\n",
        "        self.fc1 = nn.Linear(64 * 64 * 3, 1024)\n",
        "        self.fc2 = nn.Linear(1024, 512)\n",
        "        self.fc3 = nn.Linear(512, 256)\n",
        "        self.fc4 = nn.Linear(256, 2)\n",
        "\n",
        "    def forward(self, x):\n",
        "        x = self.flatten(x)\n",
        "        x = self.fc1(x)\n",
        "        x = F.relu(x)\n",
        "        x = self.fc2(x)\n",
        "        x = F.relu(x)\n",
        "        x = self.fc3(x)\n",
        "        x = F.relu(x)\n",
        "        x = self.fc4(x)\n",
        "        output = F.log_softmax(x, dim=1)\n",
        "        return output\n",
        "\n",
        "model = Net()"
      ]
    },
    {
      "cell_type": "markdown",
      "metadata": {
        "id": "400Lbat24K7v"
      },
      "source": [
        "## Treinamento"
      ]
    },
    {
      "cell_type": "markdown",
      "metadata": {
        "id": "2cqllMDO4K7y"
      },
      "source": [
        "### Criando o objeto de treinamento"
      ]
    },
    {
      "cell_type": "code",
      "execution_count": 23,
      "metadata": {
        "id": "OAEOQoZy4K72"
      },
      "outputs": [],
      "source": [
        "def train(log_interval, dry_run, model, device, train_loader, optimizer, epoch):\n",
        "    model.train()\n",
        "    for batch_idx, (data, target) in enumerate(train_loader):\n",
        "        data, target = data.to(device), target.to(device)\n",
        "        optimizer.zero_grad()\n",
        "        output = model(data)\n",
        "        loss = F.nll_loss(output, target)\n",
        "        loss.backward()\n",
        "        optimizer.step()\n",
        "        if batch_idx % log_interval == 0:\n",
        "            print('Train Epoch: {} [{}/{} ({:.0f}%)]\\tLoss: {:.6f}'.format(\n",
        "                epoch, batch_idx * len(data), len(train_loader.dataset),\n",
        "                100. * batch_idx / len(train_loader), loss.item()))\n",
        "            if dry_run:\n",
        "                break"
      ]
    },
    {
      "cell_type": "code",
      "execution_count": 32,
      "metadata": {
        "id": "eE6DjiKK4K76"
      },
      "outputs": [],
      "source": [
        "def test(model, device, test_loader):\n",
        "    model.eval()\n",
        "    test_loss = 0\n",
        "    correct = 0\n",
        "    all_preds = []\n",
        "    all_targets = []\n",
        "    with torch.no_grad():\n",
        "        for data, target in test_loader:\n",
        "            data, target = data.to(device), target.to(device)\n",
        "            output = model(data)\n",
        "            test_loss += F.nll_loss(output, target, reduction='sum').item()  # sum up batch loss\n",
        "            pred = output.argmax(dim=1, keepdim=True)  # get the index of the max log-probability\n",
        "            correct += pred.eq(target.view_as(pred)).sum().item()\n",
        "            all_preds.extend(pred.cpu().numpy().flatten())\n",
        "            all_targets.extend(target.cpu().numpy())\n",
        "\n",
        "    test_loss /= len(test_loader.dataset)\n",
        "\n",
        "    print('\\nTest set: Average loss: {:.4f}, Accuracy: {}/{} ({:.0f}%)\\n'.format(\n",
        "        test_loss, correct, len(test_loader.dataset),\n",
        "        100. * correct / len(test_loader.dataset)))\n",
        "    return all_preds, all_targets"
      ]
    },
    {
      "cell_type": "markdown",
      "metadata": {
        "id": "kxdm4FTK4K8E"
      },
      "source": [
        "## Avaliação"
      ]
    },
    {
      "cell_type": "code",
      "execution_count": 33,
      "metadata": {
        "colab": {
          "base_uri": "https://localhost:8080/"
        },
        "id": "kgH7e25qb_-K",
        "outputId": "c26e980c-66e6-4318-a16f-305e1a5b03f4"
      },
      "outputs": [
        {
          "output_type": "stream",
          "name": "stdout",
          "text": [
            "Train Epoch: 1 [0/215 (0%)]\tLoss: 0.694022\n",
            "\n",
            "Test set: Average loss: 41.1971, Accuracy: 36/54 (67%)\n",
            "\n",
            "Train Epoch: 2 [0/215 (0%)]\tLoss: 62.799591\n",
            "\n",
            "Test set: Average loss: 1.4766, Accuracy: 24/54 (44%)\n",
            "\n",
            "Train Epoch: 3 [0/215 (0%)]\tLoss: 1.044284\n",
            "\n",
            "Test set: Average loss: 0.9218, Accuracy: 37/54 (69%)\n",
            "\n",
            "Train Epoch: 4 [0/215 (0%)]\tLoss: 10.682805\n",
            "\n",
            "Test set: Average loss: 0.5564, Accuracy: 42/54 (78%)\n",
            "\n",
            "Train Epoch: 5 [0/215 (0%)]\tLoss: 0.528498\n",
            "\n",
            "Test set: Average loss: 0.5990, Accuracy: 40/54 (74%)\n",
            "\n",
            "Train Epoch: 6 [0/215 (0%)]\tLoss: 0.468392\n",
            "\n",
            "Test set: Average loss: 0.4938, Accuracy: 41/54 (76%)\n",
            "\n",
            "Train Epoch: 7 [0/215 (0%)]\tLoss: 0.390388\n",
            "\n",
            "Test set: Average loss: 0.4717, Accuracy: 44/54 (81%)\n",
            "\n",
            "Train Epoch: 8 [0/215 (0%)]\tLoss: 0.448986\n",
            "\n",
            "Test set: Average loss: 0.5183, Accuracy: 42/54 (78%)\n",
            "\n",
            "Train Epoch: 9 [0/215 (0%)]\tLoss: 0.349428\n",
            "\n",
            "Test set: Average loss: 0.4600, Accuracy: 43/54 (80%)\n",
            "\n",
            "Train Epoch: 10 [0/215 (0%)]\tLoss: 0.376424\n",
            "\n",
            "Test set: Average loss: 0.4424, Accuracy: 43/54 (80%)\n",
            "\n",
            "Train Epoch: 11 [0/215 (0%)]\tLoss: 0.327433\n",
            "\n",
            "Test set: Average loss: 0.4413, Accuracy: 44/54 (81%)\n",
            "\n",
            "Train Epoch: 12 [0/215 (0%)]\tLoss: 0.283233\n",
            "\n",
            "Test set: Average loss: 0.4465, Accuracy: 44/54 (81%)\n",
            "\n",
            "Train Epoch: 13 [0/215 (0%)]\tLoss: 0.203682\n",
            "\n",
            "Test set: Average loss: 0.4558, Accuracy: 43/54 (80%)\n",
            "\n",
            "Train Epoch: 14 [0/215 (0%)]\tLoss: 0.293678\n",
            "\n",
            "Test set: Average loss: 0.4558, Accuracy: 43/54 (80%)\n",
            "\n"
          ]
        }
      ],
      "source": [
        "use_cuda = torch.cuda.is_available()\n",
        "\n",
        "torch.manual_seed(1111)\n",
        "\n",
        "device = torch.device(\"cuda\" if use_cuda else \"cpu\")\n",
        "\n",
        "train_kwargs = {'batch_size': 64}\n",
        "test_kwargs = {'batch_size': 1000}\n",
        "if use_cuda:\n",
        "    cuda_kwargs = {'num_workers': 1,\n",
        "                    'pin_memory': True,\n",
        "                    'shuffle': True}\n",
        "    train_kwargs.update(cuda_kwargs)\n",
        "    test_kwargs.update(cuda_kwargs)\n",
        "\n",
        "train_loader = DataLoader(train_dataset, **train_kwargs)\n",
        "val_loader = DataLoader(val_dataset, **test_kwargs)\n",
        "\n",
        "model = Net().to(device)\n",
        "optimizer = optim.Adam(model.parameters(), lr=0.01)\n",
        "\n",
        "epochs = 14\n",
        "scheduler = StepLR(optimizer, step_size=1, gamma=0.7)\n",
        "log_interval = 10\n",
        "\n",
        "for epoch in range(1, epochs + 1):\n",
        "    train(log_interval, False, model, device, train_loader, optimizer, epoch)\n",
        "    test(model, device, val_loader)\n",
        "    scheduler.step()\n",
        "\n",
        "torch.save(model.state_dict(), \"homer_bart_classification.pt\")"
      ]
    },
    {
      "cell_type": "code",
      "source": [
        "from sklearn.metrics import confusion_matrix, ConfusionMatrixDisplay\n",
        "import matplotlib.pyplot as plt\n",
        "# Geração da matriz de confusão\n",
        "all_preds, all_targets = test(model, device, val_loader)\n",
        "conf_matrix = confusion_matrix(all_targets, all_preds)\n",
        "disp = ConfusionMatrixDisplay(conf_matrix, display_labels=['Homer', 'Bart'])\n",
        "\n",
        "# Plot da matriz de confusão\n",
        "disp.plot(cmap=plt.cm.Blues)\n",
        "plt.show()"
      ],
      "metadata": {
        "colab": {
          "base_uri": "https://localhost:8080/",
          "height": 504
        },
        "id": "LTI5BVbul4b5",
        "outputId": "125caa75-199e-4aa0-edd6-72d4996ff38d"
      },
      "execution_count": 35,
      "outputs": [
        {
          "output_type": "stream",
          "name": "stdout",
          "text": [
            "\n",
            "Test set: Average loss: 0.4558, Accuracy: 43/54 (80%)\n",
            "\n"
          ]
        },
        {
          "output_type": "display_data",
          "data": {
            "text/plain": [
              "<Figure size 640x480 with 2 Axes>"
            ],
            "image/png": "[encoded data removed]"
          },
          "metadata": {}
        }
      ]
    },
    {
      "cell_type": "markdown",
      "source": [
        "## Conclusão"
      ],
      "metadata": {
        "id": "2OvF_u0wcLyv"
      }
    },
    {
      "cell_type": "markdown",
      "source": [
        "- Durante a fase de carregamento do dataset e manipuações dos dados, foi feito o resize das imagens e tambem feito a normalização das imagens dividindo por 255, tudo isso serve para manter uma padronização e ajudar na classificação das imagens. Alem das classificações das labels da imagem, foi criada a classe para facil manipulaçao do array de valores de imagens e dos labels. Após, Foi feita uma nova normalização de acordo com a media e variancia, e divido o dataset em treino (80%) e teste (20%)\n",
        "- Na fase de definição do modelo, foi definida uma camada de entrada com flatten, tres camadas linearas com ativação ReLU e a camada de saída linear para as duas classes.\n",
        "- Durante a fase de treinamento e avaliação, o modelo foi treinado durante 14 epocas, com o otimizador Adam usando um learning rate de 0.01. Essas configurações resutaram numa acuracia de 80% para o modelo, com uma perda média de 0.5441. Naturalmente nas primeiras epocas houve um bom aumento de acuracia, ,as decidi nao aumentar maiso numero de epocas pois a acuracia nao se alterava muito. O learning rate que mais se adequou foi de 0.01 pois trouxe uma estabilidade durante o treinamento. O resultado foi razoavel, trazendo uma acuracia de 80% e 43 classificações certas de 54 totais, o que pode ser observado tambem na matriz de confusao acima"
      ],
      "metadata": {
        "id": "xkBb7dmMiQAj"
      }
    }
  ],
  "metadata": {
    "accelerator": "GPU",
    "colab": {
      "machine_shape": "hm",
      "provenance": []
    },
    "kernelspec": {
      "display_name": "Python 3.10.2 64-bit",
      "language": "python",
      "name": "python3"
    },
    "language_info": {
      "name": "python",
      "version": "3.10.2"
    },
    "vscode": {
      "interpreter": {
        "hash": "5fe3e6f0cdaab8afdc61c52912fda83f7c0a71baaea1897dd7498e2df01e69ec"
      }
    }
  },
  "nbformat": 4,
  "nbformat_minor": 0
}